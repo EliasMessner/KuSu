{
 "cells": [
  {
   "cell_type": "markdown",
   "source": [
    "### Error:\n",
    "systemctl restart elasticsearch.service\n",
    "Job for elasticsearch.service failed because a fatal signal was delivered to the control process.\n",
    "See \"systemctl status elasticsearch.service\" and \"journalctl -xe\" for details.\n",
    "\n",
    "### Solution:\n",
    "https://stackoverflow.com/questions/58656747/elasticsearch-job-for-elasticsearch-service-failed"
   ],
   "metadata": {
    "collapsed": false,
    "pycharm": {
     "name": "#%% md\n"
    }
   }
  }
 ],
 "metadata": {
  "kernelspec": {
   "display_name": "Python 3",
   "language": "python",
   "name": "python3"
  },
  "language_info": {
   "codemirror_mode": {
    "name": "ipython",
    "version": 2
   },
   "file_extension": ".py",
   "mimetype": "text/x-python",
   "name": "python",
   "nbconvert_exporter": "python",
   "pygments_lexer": "ipython2",
   "version": "2.7.6"
  }
 },
 "nbformat": 4,
 "nbformat_minor": 0
}