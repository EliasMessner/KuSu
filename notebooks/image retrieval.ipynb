{
 "cells": [
  {
   "cell_type": "markdown",
   "metadata": {
    "collapsed": false,
    "pycharm": {
     "name": "#%% md\n"
    }
   },
   "source": [
    "# Image analysis with Python\n",
    "This notebook provides an image analysis for various kinds of cultural heritage / museum images.\n",
    "It is based on the following tutorials and discussions:\n",
    "\n",
    "**[1]** https://towardsdatascience.com/building-an-image-color-analyzer-using-python-12de6b0acf74 \\\n",
    "**[2]** https://stackoverflow.com/questions/13613573/how-to-speed-up-color-clustering-in-opencv \\\n",
    "**[3]** https://medium.com/codex/rgb-to-color-names-in-python-the-robust-way-ec4a9d97a01f \\\n",
    "**[4]** https://stackoverflow.com/questions/30230592/loading-all-images-using-imread-from-a-given-folder \n",
    "\n",
    "This notebook provides analyses for the CH images we got from Coding da Vinci. It preparats the images for our IR feature as well as it gives detailed explainations about the concepts behind. See at the end of the notebook for answers to questions regarding the concepts if you wonder about our idea.\n"
   ]
  },
  {
   "cell_type": "code",
   "execution_count": null,
   "outputs": [],
   "source": [
    "!pip install extcolors"
   ],
   "metadata": {
    "collapsed": false,
    "pycharm": {
     "name": "#%%\n"
    }
   }
  },
  {
   "cell_type": "code",
   "execution_count": null,
   "outputs": [],
   "source": [
    "!pip install webcolors"
   ],
   "metadata": {
    "collapsed": false,
    "pycharm": {
     "name": "#%%\n"
    }
   }
  },
  {
   "cell_type": "code",
   "execution_count": null,
   "outputs": [],
   "source": [
    "import extcolors\n",
    "\n",
    "# plot color distribution\n",
    "import matplotlib.pyplot as plt\n",
    "import numpy as np\n",
    "# path \n",
    "\n",
    "\n",
    "# other\n",
    "from tqdm import tqdm\n",
    "import random"
   ],
   "metadata": {
    "collapsed": false,
    "pycharm": {
     "name": "#%%\n"
    }
   }
  },
  {
   "cell_type": "markdown",
   "source": [
    "#### Data\n",
    "We work with OpenGLAM data. This maens we use data that is free for reuse licences by the institutions that give it. Our following image data is especially taken from the context of Coding da Vinci. All data sets were published there and licensed freely for reuse with the purpose to engage tech and culture communities to work with the data. \n",
    "We will get our data per URL. [6]\n",
    "\n",
    "Please load the following folders into the image subdirectory of this repository:\n",
    "- folder name \"westmuensterland\": https://download.codingdavinci.de/index.php/s/y7wHa8r6dWtnTTm?path=%2F -- This is the most homogenous of our datasets, containing XXX images of lamps from the XXX museum, which are fotografed in the sammer manner. [Bild]\n",
    "- folder name \"saarlandmuseum\": https://download.codingdavinci.de/index.php/s/3y5dXdFAmGxAGgzhttps://download.codingdavinci.de/index.php/s/3y5dXdFAmGxAGgz\n",
    "- folder name \"muenchen\":\n",
    "\n",
    "Since Cultural Heritage images are mostly provided in high resolution for reusing purposes, we directly preprocess them when loading them from the folder and save only the preprocessed (and therefore downsized) images."
   ],
   "metadata": {
    "collapsed": false,
    "pycharm": {
     "name": "#%% md\n"
    }
   }
  },
  {
   "cell_type": "markdown",
   "source": [
    "#### Color analysis\n",
    "After preprocessing we perform the color analysis. Since we will later map the colors values to their closest colour name in CSS3 style we use RGB values for that.\n",
    "[1] provides us with a plot of the color analysis, which we will use for demonstration purposes but what will be not necessary for the future large-scale analysis.\n",
    "The code originally belongs to [4]."
   ],
   "metadata": {
    "collapsed": false,
    "pycharm": {
     "name": "#%% md\n"
    }
   }
  },
  {
   "cell_type": "code",
   "execution_count": null,
   "outputs": [],
   "source": [
    "def rgb_to_hex(rgb_color):\n",
    "    hex_color = \"#\"\n",
    "    for i in rgb_color:\n",
    "        i = int(i)\n",
    "        hex_color += (\"{:02x}\".format(i))\n",
    "    return hex_color"
   ],
   "metadata": {
    "collapsed": false,
    "pycharm": {
     "name": "#%%\n"
    }
   }
  },
  {
   "cell_type": "code",
   "execution_count": null,
   "outputs": [],
   "source": [
    "from scipy.spatial import KDTree\n",
    "from webcolors import (\n",
    "    CSS3_HEX_TO_NAMES,\n",
    "    hex_to_rgb)\n",
    "\n",
    "def convert_rgb_to_names(rgb_tuple):\n",
    "    # a dictionary of all the hex and their respective names in css3\n",
    "    css3_db = CSS3_HEX_TO_NAMES\n",
    "    names = []\n",
    "    rgb_values = []\n",
    "    for color_hex, color_name in css3_db.items():\n",
    "        names.append(color_name)\n",
    "        rgb_values.append(hex_to_rgb(color_hex))\n",
    "\n",
    "    kdt_db = KDTree(rgb_values)\n",
    "    distance, index = kdt_db.query(rgb_tuple)\n",
    "    return names[index]"
   ],
   "metadata": {
    "collapsed": false,
    "pycharm": {
     "name": "#%%\n"
    }
   }
  },
  {
   "cell_type": "markdown",
   "source": [
    "For color analysis we used two different approaches:\n",
    "- k-means: which divides the image in five clusters and gives back the dominant color of each cluster\n",
    "- `extcolors`: which is a packe providing the `extract_from_image`-function that gives back the RGB-value for each pixel of the file\n",
    "As one can see for the example below k-means needs prepared (reshaped) images and is much slower on the original file size. Since we will work with many high-resolution images we will use 'extcolors`. \n",
    "Both algorithms are much faster on resized images (e.g. down-scaling to 50 percent of the original size).\n",
    "\n",
    "*Example*"
   ],
   "metadata": {
    "collapsed": false,
    "pycharm": {
     "name": "#%% md\n"
    }
   }
  },
  {
   "cell_type": "code",
   "execution_count": null,
   "outputs": [],
   "source": [
    "import extcolors\n",
    "def color_analysis_ext(image_path, file_path):\n",
    "    colors, pixel_count = extcolors.extract_from_path(image_path)\n",
    "    colors = dict(colors)\n",
    "    names = {convert_rgb_to_names(key): value/sum(colors.values()) for (key, value) in colors.items()}\n",
    "    file = open(file_path, \"w+\")\n",
    "    line = str([name for name in names.keys()])\n",
    "    file.write(line)\n",
    "    return names     \n"
   ],
   "metadata": {
    "collapsed": false,
    "pycharm": {
     "name": "#%%\n"
    }
   }
  },
  {
   "cell_type": "code",
   "execution_count": null,
   "outputs": [],
   "source": [
    "result = color_analysis_ext(\"C:\\\\Users\\\\LeaGl\\\\Documents\\\\GitHub\\\\InformationRetrieval\\\\images\\\\westmuensterland\\\\HM-17-44.jpg\",\"C:\\\\Users\\\\LeaGl\\\\Documents\\\\GitHub\\\\InformationRetrieval\\\\images\\\\westmuensterlandtext\\\\HM-17-44.txt\")\n",
    "\n",
    "plt.xticks(rotation='vertical')\n",
    "plt.plot(list(result.keys()), list(result.values()))\n",
    "plt.show()\n",
    "\n",
    "plt.xticks(rotation='vertical')\n",
    "plt.plot(list(result.keys()), list(result.values()))\n",
    "plt.yscale('log')\n",
    "plt.show()"
   ],
   "metadata": {
    "collapsed": false,
    "pycharm": {
     "name": "#%%\n"
    }
   }
  },
  {
   "cell_type": "code",
   "execution_count": null,
   "outputs": [],
   "source": [
    "import PIL \n",
    "img = PIL.Image.open(\"C:\\\\Users\\\\LeaGl\\\\Documents\\\\GitHub\\\\InformationRetrieval\\\\images\\\\westmuensterland\\\\HM-17-44.jpg\")\n",
    "width, height = img.size\n",
    "new_size = (int(width/2), int(height/2))\n",
    "img = img.resize(new_size)\n",
    "result = color_analysis_ext(img, \"C:\\\\Users\\\\LeaGl\\\\Documents\\\\GitHub\\\\InformationRetrieval\\\\images\\\\westmuensterlandtext\\\\HM-17-44.txt\")\n",
    "\n",
    "plt.xticks(rotation='vertical')\n",
    "plt.plot(list(result.keys()), list(result.values()))\n",
    "plt.show()\n",
    "#plt.savefig(name)\n",
    "\n",
    "plt.xticks(rotation='vertical')\n",
    "plt.plot(list(result.keys()), list(result.values()))\n",
    "plt.yscale('log')\n",
    "plt.show()"
   ],
   "metadata": {
    "collapsed": false,
    "pycharm": {
     "name": "#%%\n"
    }
   }
  },
  {
   "cell_type": "markdown",
   "source": [
    "So one can see that in one image there is a power law on which the distribution of the colors depend. This varies with the downsizing of the image, which is the resaon why we will try to use the original sized images in the following and why we dropped the k-means approach.\n",
    "We will now expand the data.\n",
    "\n",
    "#### Full Analysis"
   ],
   "metadata": {
    "collapsed": false,
    "pycharm": {
     "name": "#%% md\n"
    }
   }
  },
  {
   "cell_type": "code",
   "execution_count": null,
   "outputs": [],
   "source": [
    "import os\n",
    "def analyse_images(folder, file_folder):\n",
    "    pbar = tqdm(total=len(os.listdir(folder)))\n",
    "    color_dict_all = dict.fromkeys([el for el in CSS3_HEX_TO_NAMES.values()], 0)\n",
    "    for filename in os.listdir(folder):\n",
    "        if not filename.lower().endswith(('.png', '.jpg', '.jpeg', '.tiff')): continue\n",
    "        result = color_analysis_ext(os.path.join(folder, filename), os.path.join(file_folder) + \"\\\\\" + filename.split('.')[0] + \".txt\") \n",
    "        for (key,value) in color_dict_all.items():\n",
    "            if key not in result.keys(): continue\n",
    "            color_dict_all[key] = value+result[key]\n",
    "        pbar.update(n=1)\n",
    "        result = {k: v for k, v in sorted(color_dict_all.items(), key=lambda item: item[1], reverse = True)}\n",
    "        result = {k: v for k, v in result.items() if v >= 1} # delete colors with 0 percent, since log will not work on log(0). delete also \n",
    "        # colors that appear less then 1%\n",
    "    return result"
   ],
   "metadata": {
    "collapsed": false,
    "pycharm": {
     "name": "#%%\n"
    }
   }
  },
  {
   "cell_type": "code",
   "execution_count": null,
   "outputs": [],
   "source": [
    "result = analyse_images(\"C:\\\\Users\\\\LeaGl\\\\Documents\\\\GitHub\\\\InformationRetrieval\\\\images\\\\westmuensterland\", \"C:\\\\Users\\\\LeaGl\\Documents\\\\GitHub\\\\InformationRetrieval\\\\images\\\\westmuensterlandtext\")\n",
    "\n",
    "plt.xticks(rotation='vertical')\n",
    "plt.plot(list(result.keys()),list(result.values()))\n",
    "plt.show()\n",
    "plt.savefig(\"westmuensterland\")\n",
    "\n",
    "plt.xticks(rotation='vertical')\n",
    "plt.plot(list(result.keys()), list(result.values()))\n",
    "plt.yscale('log')\n",
    "plt.show()\n",
    "plt.savefig(\"westmuensterland_log\")"
   ],
   "metadata": {
    "collapsed": false,
    "pycharm": {
     "name": "#%%\n"
    }
   }
  },
  {
   "cell_type": "code",
   "execution_count": null,
   "outputs": [],
   "source": [
    "result = analyse_images(\"C:\\\\Users\\\\LeaGl\\\\Documents\\\\GitHub\\\\InformationRetrieval\\\\images\\\\saarlandmuseum\", \"C:\\\\Users\\\\LeaGl\\\\Documents\\\\GitHub\\\\InformationRetrieval\\\\images\\\\saarlandmuseumtext\")\n",
    "\n",
    "plt.xticks(rotation='vertical')\n",
    "plt.plot(list(result.keys()), list(result.values()))\n",
    "plt.show()\n",
    "plt.savefig(\"saarlandmuseum\")\n",
    "\n",
    "plt.xticks(rotation='vertical')\n",
    "plt.plot(list(result.keys()), list(result.values()))\n",
    "plt.yscale('log')\n",
    "plt.show()\n",
    "plt.savefig(\"saarlandmuseum_log\")"
   ],
   "metadata": {
    "collapsed": false,
    "pycharm": {
     "name": "#%%\n"
    }
   }
  },
  {
   "cell_type": "code",
   "execution_count": null,
   "outputs": [],
   "source": [
    "result = analyse_images(\"C:\\\\Users\\\\LeaGl\\\\Documents\\\\GitHub\\\\InformationRetrieval\\\\images\\\\muenchen\", \"C:\\\\Users\\\\LeaGl\\Documents\\\\GitHub\\\\InformationRetrieval\\\\images\\\\muenchentext\")\n",
    "\n",
    "plt.xticks(rotation='vertical')\n",
    "plt.plot(list(result.keys()),list(result.values()))\n",
    "plt.show()\n",
    "plt.savefig(\"muenchen\")\n",
    "\n",
    "plt.xticks(rotation='vertical')\n",
    "plt.plot(list(result.keys()), list(result.values()))\n",
    "plt.yscale('log')\n",
    "plt.show()\n",
    "plt.savefig(\"muenchen_log\")"
   ],
   "metadata": {
    "collapsed": false,
    "pycharm": {
     "name": "#%%\n"
    }
   }
  }
 ],
 "metadata": {
  "interpreter": {
   "hash": "521a8ff4c7cff8ecc21a43b55cdc7ebc15e28d3ff5e6e97247265be2542d20a2"
  },
  "kernelspec": {
   "display_name": "Python 3.7.9 ('base')",
   "language": "python",
   "name": "python3"
  },
  "language_info": {
   "codemirror_mode": {
    "name": "ipython",
    "version": 3
   },
   "file_extension": ".py",
   "mimetype": "text/x-python",
   "name": "python",
   "nbconvert_exporter": "python",
   "pygments_lexer": "ipython3",
   "version": "3.7.9"
  }
 },
 "nbformat": 4,
 "nbformat_minor": 0
}