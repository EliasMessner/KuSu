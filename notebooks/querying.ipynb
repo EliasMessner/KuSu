{
 "cells": [
  {
   "cell_type": "markdown",
   "source": [
    "### Demo for basic elasticsearch use\n",
    "* delete index\n",
    "* create index\n",
    "* insert data into index\n",
    "* query data by search terms"
   ],
   "metadata": {
    "collapsed": false,
    "pycharm": {
     "name": "#%% md\n"
    }
   }
  },
  {
   "cell_type": "code",
   "execution_count": 1,
   "outputs": [],
   "source": [
    "from elasticsearch.client import Elasticsearch\n",
    "\n",
    "client = Elasticsearch([{\"host\": \"localhost\", \"port\": 9200}])"
   ],
   "metadata": {
    "collapsed": false,
    "pycharm": {
     "name": "#%%\n"
    }
   }
  },
  {
   "cell_type": "code",
   "execution_count": 2,
   "outputs": [
    {
     "name": "stdout",
     "output_type": "stream",
     "text": [
      "{}\n"
     ]
    },
    {
     "name": "stderr",
     "output_type": "stream",
     "text": [
      "/home/elias/miniconda3/envs/InformationRetrieval/lib/python3.10/site-packages/elasticsearch/connection/base.py:208: ElasticsearchWarning: Elasticsearch built-in security features are not enabled. Without authentication, your cluster could be accessible to anyone. See https://www.elastic.co/guide/en/elasticsearch/reference/7.17/security-minimal-setup.html to enable security.\n",
      "  warnings.warn(message, category=ElasticsearchWarning)\n",
      "/home/elias/miniconda3/envs/InformationRetrieval/lib/python3.10/site-packages/elasticsearch/connection/base.py:208: ElasticsearchWarning: setting [action.destructive_requires_name] will default to true in 8.0, set explicitly to false to preserve current behavior\n",
      "  warnings.warn(message, category=ElasticsearchWarning)\n"
     ]
    }
   ],
   "source": [
    "# delete test-index\n",
    "client.indices.delete(\"*\", ignore=[400, 404])  # you can pass these ignore flags if you do not care or know if the index exists\n",
    "print(client.indices.get_alias(\"*\"))  # show all indices"
   ],
   "metadata": {
    "collapsed": false,
    "pycharm": {
     "name": "#%%\n"
    }
   }
  },
  {
   "cell_type": "code",
   "execution_count": 3,
   "outputs": [
    {
     "data": {
      "text/plain": "True"
     },
     "execution_count": 3,
     "metadata": {},
     "output_type": "execute_result"
    }
   ],
   "source": [
    "# create new test index\n",
    "client.indices.create(\"test-index\")\n",
    "\n",
    "# check if it exists\n",
    "client.indices.exists(\"test-index\")"
   ],
   "metadata": {
    "collapsed": false,
    "pycharm": {
     "name": "#%%\n"
    }
   }
  },
  {
   "cell_type": "code",
   "execution_count": 4,
   "outputs": [
    {
     "data": {
      "text/plain": "False"
     },
     "execution_count": 4,
     "metadata": {},
     "output_type": "execute_result"
    }
   ],
   "source": [
    "# delete it\n",
    "client.indices.delete(\"test-index\")\n",
    "client.indices.exists(\"test-index\")"
   ],
   "metadata": {
    "collapsed": false,
    "pycharm": {
     "name": "#%%\n"
    }
   }
  },
  {
   "cell_type": "code",
   "execution_count": 5,
   "outputs": [],
   "source": [
    "# some dummy data\n",
    "data = [{\"title\": \"wicked sentence\", \"text\": \"The quick brown fox jumps over the lazy dog.\"},\n",
    "        {\"title\": \"confusing statement\", \"text\": \"The boy saw the man with the telescope.\"}]"
   ],
   "metadata": {
    "collapsed": false,
    "pycharm": {
     "name": "#%%\n"
    }
   }
  },
  {
   "cell_type": "code",
   "execution_count": 6,
   "outputs": [
    {
     "name": "stdout",
     "output_type": "stream",
     "text": [
      "{'test-index': {'aliases': {}}}\n"
     ]
    }
   ],
   "source": [
    "# when using client.index() for indexing data, a new index is automatically created if it does not exist\n",
    "for id, document in enumerate(data):\n",
    "    client.index(\"test-index\", id=id, body=document)\n",
    "\n",
    "print(client.indices.get_alias(\"*\"))"
   ],
   "metadata": {
    "collapsed": false,
    "pycharm": {
     "name": "#%%\n"
    }
   }
  },
  {
   "cell_type": "code",
   "execution_count": 7,
   "outputs": [
    {
     "data": {
      "text/plain": "{'_index': 'test-index',\n '_type': '_doc',\n '_id': '1',\n '_version': 1,\n '_seq_no': 1,\n '_primary_term': 1,\n 'found': True,\n '_source': {'title': 'confusing statement',\n  'text': 'The boy saw the man with the telescope.'}}"
     },
     "execution_count": 7,
     "metadata": {},
     "output_type": "execute_result"
    }
   ],
   "source": [
    "# get a document by id\n",
    "res = client.get(\"test-index\", id=1)\n",
    "res"
   ],
   "metadata": {
    "collapsed": false,
    "pycharm": {
     "name": "#%%\n"
    }
   }
  },
  {
   "cell_type": "code",
   "execution_count": 8,
   "outputs": [
    {
     "data": {
      "text/plain": "{'title': 'confusing statement',\n 'text': 'The boy saw the man with the telescope.'}"
     },
     "execution_count": 8,
     "metadata": {},
     "output_type": "execute_result"
    }
   ],
   "source": [
    "# access the data in the response\n",
    "res[\"_source\"]"
   ],
   "metadata": {
    "collapsed": false,
    "pycharm": {
     "name": "#%%\n"
    }
   }
  },
  {
   "cell_type": "markdown",
   "source": [
    "### searching"
   ],
   "metadata": {
    "collapsed": false,
    "pycharm": {
     "name": "#%% md\n"
    }
   }
  },
  {
   "cell_type": "code",
   "execution_count": 9,
   "outputs": [
    {
     "data": {
      "text/plain": "{'took': 1,\n 'timed_out': False,\n '_shards': {'total': 1, 'successful': 1, 'skipped': 0, 'failed': 0},\n 'hits': {'total': {'value': 0, 'relation': 'eq'},\n  'max_score': None,\n  'hits': []}}"
     },
     "execution_count": 9,
     "metadata": {},
     "output_type": "execute_result"
    }
   ],
   "source": [
    "# create query\n",
    "\n",
    "## match query - the standard\n",
    "\n",
    "body = {\n",
    "    \"from\": 0,  # number of hits to skip, default 0\n",
    "    \"size\": 2,  # the maximum number of hits to return, default 10\n",
    "    \"query\": {\n",
    "        \"match\": {\n",
    "            \"text\": \"Telescope\"\n",
    "        }\n",
    "    }\n",
    "}\n",
    "\n",
    "res = client.search(index=\"test-index\", body=body)\n",
    "res"
   ],
   "metadata": {
    "collapsed": false,
    "pycharm": {
     "name": "#%%\n"
    }
   }
  },
  {
   "cell_type": "code",
   "execution_count": 10,
   "outputs": [],
   "source": [
    "for hit in res[\"hits\"][\"hits\"]:\n",
    "    print(f\"ID: {hit['_id']}, SCORE: {hit['_score']}, SOURCE: {hit['_source']} \\n\")"
   ],
   "metadata": {
    "collapsed": false,
    "pycharm": {
     "name": "#%%\n"
    }
   }
  },
  {
   "cell_type": "code",
   "execution_count": 11,
   "outputs": [
    {
     "data": {
      "text/plain": "{'took': 1,\n 'timed_out': False,\n '_shards': {'total': 1, 'successful': 1, 'skipped': 0, 'failed': 0},\n 'hits': {'total': {'value': 0, 'relation': 'eq'},\n  'max_score': None,\n  'hits': []}}"
     },
     "execution_count": 11,
     "metadata": {},
     "output_type": "execute_result"
    }
   ],
   "source": [
    "body = {\n",
    "    \"from\": 0,\n",
    "    \"size\": 2,\n",
    "    \"query\": {\n",
    "        \"match\": {\n",
    "            \"text\": \"Telescope fox\"  # not all terms need to match\n",
    "        }\n",
    "    }\n",
    "}\n",
    "\n",
    "res = client.search(index=\"test-index\", body=body)\n",
    "res"
   ],
   "metadata": {
    "collapsed": false,
    "pycharm": {
     "name": "#%%\n"
    }
   }
  },
  {
   "cell_type": "code",
   "execution_count": 12,
   "outputs": [
    {
     "data": {
      "text/plain": "{'took': 1,\n 'timed_out': False,\n '_shards': {'total': 1, 'successful': 1, 'skipped': 0, 'failed': 0},\n 'hits': {'total': {'value': 0, 'relation': 'eq'},\n  'max_score': None,\n  'hits': []}}"
     },
     "execution_count": 12,
     "metadata": {},
     "output_type": "execute_result"
    }
   ],
   "source": [
    "# match-phrase query: more restrictive\n",
    "# must match phrase, all terms need to match\n",
    "\n",
    "body = {\n",
    "    \"from\": 0,\n",
    "    \"size\": 2,\n",
    "    \"query\": {\n",
    "        \"match_phrase\": {\n",
    "            \"text\": \"man with-the telescope\"\n",
    "        }\n",
    "    }\n",
    "}\n",
    "\n",
    "res = client.search(index=\"test-index\", body=body)\n",
    "res"
   ],
   "metadata": {
    "collapsed": false,
    "pycharm": {
     "name": "#%%\n"
    }
   }
  },
  {
   "cell_type": "code",
   "execution_count": 13,
   "outputs": [
    {
     "data": {
      "text/plain": "{'took': 1,\n 'timed_out': False,\n '_shards': {'total': 1, 'successful': 1, 'skipped': 0, 'failed': 0},\n 'hits': {'total': {'value': 0, 'relation': 'eq'},\n  'max_score': None,\n  'hits': []}}"
     },
     "execution_count": 13,
     "metadata": {},
     "output_type": "execute_result"
    }
   ],
   "source": [
    "# combine queries using bool\n",
    "# must, must_not, should.\n",
    "# should is less restrictive, like logical or, must is like logical and\n",
    "\n",
    "body = {\n",
    "    \"from\": 0,\n",
    "    \"size\": 2,\n",
    "    \"query\": {\n",
    "        \"bool\": {\n",
    "            \"must_not\": {\n",
    "                \"match\": {\n",
    "                    \"title\": \"sentence\"  # title field must not contain \"sentence\"\n",
    "                }\n",
    "            },\n",
    "            \"should\": {\n",
    "                \"match\": {\n",
    "                    \"text\": \"telescope fox\"\n",
    "                }\n",
    "            }\n",
    "        }\n",
    "    }\n",
    "}\n",
    "\n",
    "res = client.search(index=\"test-index\", body=body)\n",
    "res"
   ],
   "metadata": {
    "collapsed": false,
    "pycharm": {
     "name": "#%%\n"
    }
   }
  },
  {
   "cell_type": "code",
   "execution_count": 14,
   "outputs": [
    {
     "data": {
      "text/plain": "{'took': 1,\n 'timed_out': False,\n '_shards': {'total': 1, 'successful': 1, 'skipped': 0, 'failed': 0},\n 'hits': {'total': {'value': 0, 'relation': 'eq'},\n  'max_score': None,\n  'hits': []}}"
     },
     "execution_count": 14,
     "metadata": {},
     "output_type": "execute_result"
    }
   ],
   "source": [
    "# search using regex\n",
    "\n",
    "body = {\n",
    "    \"query\": {\n",
    "        \"regexp\": {\n",
    "            \"text\": \".*\"  # match everything\n",
    "        }\n",
    "    }\n",
    "}\n",
    "\n",
    "res = client.search(index=\"test-index\", body=body)\n",
    "res"
   ],
   "metadata": {
    "collapsed": false,
    "pycharm": {
     "name": "#%%\n"
    }
   }
  },
  {
   "cell_type": "code",
   "execution_count": 15,
   "outputs": [
    {
     "data": {
      "text/plain": "{'took': 1,\n 'timed_out': False,\n '_shards': {'total': 1, 'successful': 1, 'skipped': 0, 'failed': 0},\n 'hits': {'total': {'value': 0, 'relation': 'eq'},\n  'max_score': None,\n  'hits': []}}"
     },
     "execution_count": 15,
     "metadata": {},
     "output_type": "execute_result"
    }
   ],
   "source": [
    "# search using a query string\n",
    "# Note that with query_string you may use wildcards, which you can't with match\n",
    "\n",
    "body = {\n",
    "    \"query\": {\n",
    "        \"query_string\": {\n",
    "            \"query\": \"saw telescope\"\n",
    "        }\n",
    "    }\n",
    "}\n",
    "\n",
    "res = client.search(index=\"test-index\", body=body)\n",
    "res"
   ],
   "metadata": {
    "collapsed": false,
    "pycharm": {
     "name": "#%%\n"
    }
   }
  },
  {
   "cell_type": "code",
   "execution_count": 18,
   "outputs": [
    {
     "data": {
      "text/plain": "{'took': 2,\n 'timed_out': False,\n '_shards': {'total': 1, 'successful': 1, 'skipped': 0, 'failed': 0},\n 'hits': {'total': {'value': 1, 'relation': 'eq'},\n  'max_score': 1.420477,\n  'hits': [{'_index': 'test-index',\n    '_type': '_doc',\n    '_id': '1',\n    '_score': 1.420477,\n    '_source': {'title': 'confusing statement',\n     'text': 'The boy saw the man with the telescope.'}}]}}"
     },
     "execution_count": 18,
     "metadata": {},
     "output_type": "execute_result"
    }
   ],
   "source": [
    "from src.querying import search\n",
    "\n",
    "res = search(client=client, index=\"test-index\", query_string=\"saw telescope\")\n",
    "res"
   ],
   "metadata": {
    "collapsed": false,
    "pycharm": {
     "name": "#%%\n"
    }
   }
  }
 ],
 "metadata": {
  "kernelspec": {
   "display_name": "Python 3",
   "language": "python",
   "name": "python3"
  },
  "language_info": {
   "codemirror_mode": {
    "name": "ipython",
    "version": 2
   },
   "file_extension": ".py",
   "mimetype": "text/x-python",
   "name": "python",
   "nbconvert_exporter": "python",
   "pygments_lexer": "ipython2",
   "version": "2.7.6"
  }
 },
 "nbformat": 4,
 "nbformat_minor": 0
}