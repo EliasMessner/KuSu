{
 "cells": [
  {
   "cell_type": "code",
   "execution_count": 15,
   "metadata": {
    "collapsed": true,
    "pycharm": {
     "name": "#%%\n"
    }
   },
   "outputs": [
    {
     "name": "stdout",
     "output_type": "stream",
     "text": [
      "{'my_index': {'aliases': {}}, 'test-index': {'aliases': {}}}\n"
     ]
    }
   ],
   "source": [
    "from elasticsearch.client import Elasticsearch\n",
    "from src.querying import get_query_body, search\n",
    "\n",
    "client = Elasticsearch([{\"host\": \"localhost\", \"port\": 9200}])\n",
    "client.indices.delete(\"test-index\", ignore=[400, 404])\n",
    "client.index(\"test-index\", body={\"title\": \"wicked sentence\", \"text\": \"The quick brown fox jumps over the lazy dog.\"})\n",
    "\n",
    "print(client.indices.get_alias(\"*\"))"
   ]
  },
  {
   "cell_type": "code",
   "execution_count": 16,
   "outputs": [
    {
     "name": "stdout",
     "output_type": "stream",
     "text": [
      "{'_shards': {'failed': 0, 'skipped': 0, 'successful': 1, 'total': 1},\n",
      " 'hits': {'hits': [],\n",
      "          'max_score': None,\n",
      "          'total': {'relation': 'eq', 'value': 0}},\n",
      " 'timed_out': False,\n",
      " 'took': 1}\n"
     ]
    }
   ],
   "source": [
    "from pprint import pprint\n",
    "\n",
    "res = search(client, index=\"test-index\", query_string=\"wicked sentence\")\n",
    "pprint(res)"
   ],
   "metadata": {
    "collapsed": false,
    "pycharm": {
     "name": "#%%\n"
    }
   }
  }
 ],
 "metadata": {
  "kernelspec": {
   "display_name": "Python 3",
   "language": "python",
   "name": "python3"
  },
  "language_info": {
   "codemirror_mode": {
    "name": "ipython",
    "version": 2
   },
   "file_extension": ".py",
   "mimetype": "text/x-python",
   "name": "python",
   "nbconvert_exporter": "python",
   "pygments_lexer": "ipython2",
   "version": "2.7.6"
  }
 },
 "nbformat": 4,
 "nbformat_minor": 0
}