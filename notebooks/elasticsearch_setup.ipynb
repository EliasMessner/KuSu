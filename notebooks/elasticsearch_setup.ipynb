{
 "cells": [
  {
   "cell_type": "markdown",
   "source": [
    "Based on:\n",
    "https://betterprogramming.pub/quick-start-elasticsearch-with-python-7756ea45d815\n",
    "\n",
    "More examples using elasticsearch-dsl:\n",
    "https://elasticsearch-dsl.readthedocs.io/en/latest/"
   ],
   "metadata": {
    "collapsed": false,
    "pycharm": {
     "name": "#%% md\n"
    }
   }
  },
  {
   "cell_type": "code",
   "execution_count": null,
   "outputs": [],
   "source": [
    "!pip install elasticsearch==7.13.3"
   ],
   "metadata": {
    "collapsed": false,
    "pycharm": {
     "name": "#%%\n"
    }
   }
  },
  {
   "cell_type": "code",
   "execution_count": null,
   "outputs": [],
   "source": [
    "!pip install elasticsearch-dsl==7.4.0"
   ],
   "metadata": {
    "collapsed": false,
    "pycharm": {
     "name": "#%%\n"
    }
   }
  },
  {
   "cell_type": "code",
   "execution_count": 1,
   "outputs": [],
   "source": [
    "from elasticsearch import Elasticsearch\n",
    "client = Elasticsearch([{\"host\": \"localhost\", \"port\": 9200}])"
   ],
   "metadata": {
    "collapsed": false,
    "pycharm": {
     "name": "#%%\n"
    }
   }
  },
  {
   "cell_type": "code",
   "execution_count": 2,
   "outputs": [],
   "source": [
    "dummy_data = [{\"balance\": \"$2,410.62\", \"age\": 40, \"name\": \"Bettie Buckner\", \"gender\": \"female\", \"company\": \"RODEOMAD\",\n",
    "         \"email\": \"bettiebuckner@rodeomad.com\", \"phone\": \"+1 (857) 491-2461\"},\n",
    "        {\"balance\": \"$1,143.56\", \"age\": 28, \"name\": \"Hanson Gates\", \"gender\": \"male\", \"company\": \"PEARLESSA\",\n",
    "         \"email\": \"hansongates@pearlessa.com\", \"phone\": \"+1 (825) 524-3896\"},\n",
    "        {\"balance\": \"$2,542.95\", \"age\": 20, \"name\": \"Audra Marshall\", \"gender\": \"female\", \"company\": \"COMTRAIL\",\n",
    "         \"email\": \"audramarshall@comtrail.com\", \"phone\": \"+1 (920) 569-2780\"},\n",
    "        {\"balance\": \"$2,235.86\", \"age\": 34, \"name\": \"Milagros Conrad\", \"gender\": \"female\", \"company\": \"IDEGO\",\n",
    "         \"email\": \"milagrosconrad@idego.com\", \"phone\": \"+1 (823) 451-2064\"},\n",
    "        {\"balance\": \"$2,606.95\", \"age\": 34, \"name\": \"Maureen Lopez\", \"gender\": \"female\", \"company\": \"EVENTEX\",\n",
    "         \"email\": \"maureenlopez@eventex.com\", \"phone\": \"+1 (913) 425-3716\"}]"
   ],
   "metadata": {
    "collapsed": false,
    "pycharm": {
     "name": "#%%\n"
    }
   }
  },
  {
   "cell_type": "code",
   "execution_count": 3,
   "outputs": [
    {
     "name": "stdout",
     "output_type": "stream",
     "text": [
      "{'_id': 'MkeEzYABr4aKbcvE8BF_',\n",
      " '_index': 'my_index',\n",
      " '_primary_term': 3,\n",
      " '_seq_no': 15,\n",
      " '_shards': {'failed': 0, 'successful': 1, 'total': 2},\n",
      " '_type': '_doc',\n",
      " '_version': 1,\n",
      " 'result': 'created'}\n",
      "{'_id': 'M0eEzYABr4aKbcvE8BGg',\n",
      " '_index': 'my_index',\n",
      " '_primary_term': 3,\n",
      " '_seq_no': 16,\n",
      " '_shards': {'failed': 0, 'successful': 1, 'total': 2},\n",
      " '_type': '_doc',\n",
      " '_version': 1,\n",
      " 'result': 'created'}\n",
      "{'_id': 'NEeEzYABr4aKbcvE8BGx',\n",
      " '_index': 'my_index',\n",
      " '_primary_term': 3,\n",
      " '_seq_no': 17,\n",
      " '_shards': {'failed': 0, 'successful': 1, 'total': 2},\n",
      " '_type': '_doc',\n",
      " '_version': 1,\n",
      " 'result': 'created'}\n",
      "{'_id': 'NUeEzYABr4aKbcvE8BHH',\n",
      " '_index': 'my_index',\n",
      " '_primary_term': 3,\n",
      " '_seq_no': 18,\n",
      " '_shards': {'failed': 0, 'successful': 1, 'total': 2},\n",
      " '_type': '_doc',\n",
      " '_version': 1,\n",
      " 'result': 'created'}\n",
      "{'_id': 'NkeEzYABr4aKbcvE8BHU',\n",
      " '_index': 'my_index',\n",
      " '_primary_term': 3,\n",
      " '_seq_no': 19,\n",
      " '_shards': {'failed': 0, 'successful': 1, 'total': 2},\n",
      " '_type': '_doc',\n",
      " '_version': 1,\n",
      " 'result': 'created'}\n"
     ]
    },
    {
     "name": "stderr",
     "output_type": "stream",
     "text": [
      "/home/elias/miniconda3/envs/IR_museum/lib/python3.10/site-packages/elasticsearch/connection/base.py:208: ElasticsearchWarning: Elasticsearch built-in security features are not enabled. Without authentication, your cluster could be accessible to anyone. See https://www.elastic.co/guide/en/elasticsearch/reference/7.17/security-minimal-setup.html to enable security.\n",
      "  warnings.warn(message, category=ElasticsearchWarning)\n"
     ]
    }
   ],
   "source": [
    "from pprint import pprint\n",
    "\n",
    "for entry in dummy_data:\n",
    "    response = client.index(index='my_index', body=entry)\n",
    "    pprint(response)"
   ],
   "metadata": {
    "collapsed": false,
    "pycharm": {
     "name": "#%%\n"
    }
   }
  },
  {
   "cell_type": "code",
   "execution_count": 4,
   "outputs": [
    {
     "name": "stdout",
     "output_type": "stream",
     "text": [
      "{'my_index': {'aliases': {}}}\n"
     ]
    }
   ],
   "source": [
    "# To list all the available indices, you can do\n",
    "print(client.indices.get_alias(\"*\"))"
   ],
   "metadata": {
    "collapsed": false,
    "pycharm": {
     "name": "#%%\n"
    }
   }
  },
  {
   "cell_type": "code",
   "execution_count": 5,
   "outputs": [
    {
     "name": "stdout",
     "output_type": "stream",
     "text": [
      "{'_shards': {'failed': 0, 'skipped': 0, 'successful': 1, 'total': 1},\n",
      " 'hits': {'hits': [{'_id': '1zFYzYABo1hN2FINcA7T',\n",
      "                    '_index': 'my_index',\n",
      "                    '_score': 2.5198257,\n",
      "                    '_source': {'age': 28,\n",
      "                                'balance': '$1,143.56',\n",
      "                                'company': 'PEARLESSA',\n",
      "                                'email': 'hansongates@pearlessa.com',\n",
      "                                'gender': 'male',\n",
      "                                'name': 'Hanson Gates',\n",
      "                                'phone': '+1 (825) 524-3896'},\n",
      "                    '_type': '_doc'},\n",
      "                   {'_id': 'BdR7zYABCxraG1ELjPjL',\n",
      "                    '_index': 'my_index',\n",
      "                    '_score': 2.5198257,\n",
      "                    '_source': {'age': 28,\n",
      "                                'balance': '$1,143.56',\n",
      "                                'company': 'PEARLESSA',\n",
      "                                'email': 'hansongates@pearlessa.com',\n",
      "                                'gender': 'male',\n",
      "                                'name': 'Hanson Gates',\n",
      "                                'phone': '+1 (825) 524-3896'},\n",
      "                    '_type': '_doc'},\n",
      "                   {'_id': 'Lkd-zYABr4aKbcvEeRFT',\n",
      "                    '_index': 'my_index',\n",
      "                    '_score': 2.5198257,\n",
      "                    '_source': {'age': 28,\n",
      "                                'balance': '$1,143.56',\n",
      "                                'company': 'PEARLESSA',\n",
      "                                'email': 'hansongates@pearlessa.com',\n",
      "                                'gender': 'male',\n",
      "                                'name': 'Hanson Gates',\n",
      "                                'phone': '+1 (825) 524-3896'},\n",
      "                    '_type': '_doc'}],\n",
      "          'max_score': 2.5198257,\n",
      "          'total': {'relation': 'eq', 'value': 3}},\n",
      " 'timed_out': False,\n",
      " 'took': 23}\n"
     ]
    }
   ],
   "source": [
    "# Query in dict form, directly executed\n",
    "# Here, we simply tell ES to fetch the inserted data of my_index, where gender is male and age is greater than or equal to 25:\n",
    "body = {\"query\": {\"bool\": {\"must\": [{\"match\": {\"gender\": \"male\"}},\n",
    "                                    {\"range\": {\"age\": {\"gte\": 25}}}]}}}\n",
    "response = client.search(index=\"my_index\", body=body)\n",
    "pprint(response)"
   ],
   "metadata": {
    "collapsed": false,
    "pycharm": {
     "name": "#%%\n"
    }
   }
  },
  {
   "cell_type": "code",
   "execution_count": 8,
   "outputs": [],
   "source": [
    "from elasticsearch_dsl import Search, Q"
   ],
   "metadata": {
    "collapsed": false,
    "pycharm": {
     "name": "#%%\n"
    }
   }
  },
  {
   "cell_type": "code",
   "execution_count": 11,
   "outputs": [
    {
     "name": "stdout",
     "output_type": "stream",
     "text": [
      "<Response: [<Hit(my_index/1zFYzYABo1hN2FINcA7T): {'balance': '$1,143.56', 'age': 28, 'name': 'Hanson Gates', ...}>, <Hit(my_index/BdR7zYABCxraG1ELjPjL): {'balance': '$1,143.56', 'age': 28, 'name': 'Hanson Gates', ...}>, <Hit(my_index/Lkd-zYABr4aKbcvEeRFT): {'balance': '$1,143.56', 'age': 28, 'name': 'Hanson Gates', ...}>, <Hit(my_index/M0eEzYABr4aKbcvE8BGg): {'balance': '$1,143.56', 'age': 28, 'name': 'Hanson Gates', ...}>]>\n"
     ]
    },
    {
     "name": "stderr",
     "output_type": "stream",
     "text": [
      "/home/elias/miniconda3/envs/IR_museum/lib/python3.10/site-packages/elasticsearch/connection/base.py:208: ElasticsearchWarning: Elasticsearch built-in security features are not enabled. Without authentication, your cluster could be accessible to anyone. See https://www.elastic.co/guide/en/elasticsearch/reference/7.17/security-minimal-setup.html to enable security.\n",
      "  warnings.warn(message, category=ElasticsearchWarning)\n"
     ]
    }
   ],
   "source": [
    "query = Q('match', gender='male') & Q('range', age={'gte': 25})\n",
    "s = Search(using=client, index='my_index').query(query)\n",
    "response = s.execute()\n",
    "for hit in response:\n",
    "    pprint(hit.name)"
   ],
   "metadata": {
    "collapsed": false,
    "pycharm": {
     "name": "#%%\n"
    }
   }
  }
 ],
 "metadata": {
  "kernelspec": {
   "display_name": "Python 3",
   "language": "python",
   "name": "python3"
  },
  "language_info": {
   "codemirror_mode": {
    "name": "ipython",
    "version": 2
   },
   "file_extension": ".py",
   "mimetype": "text/x-python",
   "name": "python",
   "nbconvert_exporter": "python",
   "pygments_lexer": "ipython2",
   "version": "2.7.6"
  }
 },
 "nbformat": 4,
 "nbformat_minor": 0
}